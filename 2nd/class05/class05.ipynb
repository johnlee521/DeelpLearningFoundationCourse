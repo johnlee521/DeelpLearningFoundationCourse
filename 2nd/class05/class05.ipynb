{
 "cells": [
  {
   "cell_type": "markdown",
   "metadata": {},
   "source": [
    "用Numpy实现class05中讲到的神经网络"
   ]
  },
  {
   "cell_type": "code",
   "execution_count": 1,
   "metadata": {},
   "outputs": [],
   "source": [
    "import numpy as np"
   ]
  },
  {
   "cell_type": "code",
   "execution_count": 2,
   "metadata": {},
   "outputs": [],
   "source": [
    "def ReLU(Matrix):\n",
    "   return np.maximum(0,Matrix)"
   ]
  },
  {
   "cell_type": "code",
   "execution_count": 3,
   "metadata": {},
   "outputs": [
    {
     "name": "stdout",
     "output_type": "stream",
     "text": [
      "输入X=\n",
      "[[0.1]\n",
      " [0.2]]\n"
     ]
    }
   ],
   "source": [
    "X=np.array([[0.1],[0.2]])\n",
    "print('输入X=')\n",
    "print(X)"
   ]
  },
  {
   "cell_type": "markdown",
   "metadata": {},
   "source": [
    "隐藏层参数"
   ]
  },
  {
   "cell_type": "code",
   "execution_count": 4,
   "metadata": {},
   "outputs": [
    {
     "name": "stdout",
     "output_type": "stream",
     "text": [
      "W1=\n",
      "[[-3 -2 -1]\n",
      " [ 0  1  2]]\n",
      "b1=\n",
      "[-0.2  0.3 -0.1]\n"
     ]
    }
   ],
   "source": [
    "W1 = np.array([[-3, -2, -1], [0, 1, 2]])\n",
    "b1 = np.array([-0.2, 0.3, -0.1])\n",
    "print('W1=')\n",
    "print(W1)\n",
    "print('b1=')\n",
    "print(b1)"
   ]
  },
  {
   "cell_type": "markdown",
   "metadata": {},
   "source": [
    "计算隐藏层神经元输出"
   ]
  },
  {
   "cell_type": "code",
   "execution_count": 5,
   "metadata": {},
   "outputs": [
    {
     "name": "stdout",
     "output_type": "stream",
     "text": [
      "隐藏层神经元输出=\n",
      "[[0.  0.3 0.2]]\n"
     ]
    }
   ],
   "source": [
    "O1 = ReLU( np.dot(X.transpose(), W1) + b1 )\n",
    "print('隐藏层神经元输出=')\n",
    "print(O1)"
   ]
  },
  {
   "cell_type": "markdown",
   "metadata": {},
   "source": [
    "输出层参数"
   ]
  },
  {
   "cell_type": "code",
   "execution_count": 6,
   "metadata": {},
   "outputs": [
    {
     "name": "stdout",
     "output_type": "stream",
     "text": [
      "W2=\n",
      "[[-2 -1]\n",
      " [ 0  1]\n",
      " [ 2  3]]\n",
      "b2=\n",
      "[ 0.1 -0.1]\n"
     ]
    }
   ],
   "source": [
    "W2 = np.array([[-2, -1], [0, 1], [2, 3]])\n",
    "b2 = np.array([0.1, -0.1])\n",
    "print('W2=')\n",
    "print(W2)\n",
    "print('b2=')\n",
    "print(b2)"
   ]
  },
  {
   "cell_type": "markdown",
   "metadata": {},
   "source": [
    "输出层神经元的输出"
   ]
  },
  {
   "cell_type": "code",
   "execution_count": 7,
   "metadata": {},
   "outputs": [
    {
     "name": "stdout",
     "output_type": "stream",
     "text": [
      "输出层神经元的输出=\n",
      "[[0.5 0.8]]\n"
     ]
    }
   ],
   "source": [
    "Y = ReLU( np.dot(O1, W2) + b2 )\n",
    "print('输出层神经元的输出=')\n",
    "print(Y)"
   ]
  },
  {
   "cell_type": "code",
   "execution_count": null,
   "metadata": {},
   "outputs": [],
   "source": []
  }
 ],
 "metadata": {
  "kernelspec": {
   "display_name": "Python 3",
   "language": "python",
   "name": "python3"
  },
  "language_info": {
   "codemirror_mode": {
    "name": "ipython",
    "version": 3
   },
   "file_extension": ".py",
   "mimetype": "text/x-python",
   "name": "python",
   "nbconvert_exporter": "python",
   "pygments_lexer": "ipython3",
   "version": "3.7.4"
  }
 },
 "nbformat": 4,
 "nbformat_minor": 4
}
