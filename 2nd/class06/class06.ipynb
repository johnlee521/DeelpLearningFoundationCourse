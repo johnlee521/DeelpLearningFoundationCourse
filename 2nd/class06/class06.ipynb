{
 "cells": [
  {
   "cell_type": "code",
   "execution_count": 1,
   "metadata": {},
   "outputs": [],
   "source": [
    "import matplotlib.pyplot as plt\n",
    "import tensorflow as tf\n",
    "import numpy as np"
   ]
  },
  {
   "cell_type": "code",
   "execution_count": 2,
   "metadata": {},
   "outputs": [],
   "source": [
    "def func(X):\n",
    "   return 2*X+1"
   ]
  },
  {
   "cell_type": "code",
   "execution_count": 3,
   "metadata": {},
   "outputs": [],
   "source": [
    "X = np.arange(-10, 10)\n",
    "#[-10,  -9,  -8,  -7,  -6,  -5,  -4,  -3,  -2,  -1,   0,   1,   2,   3,   4,   5,   6,   7,   8,   9]\n",
    "\n",
    "Y = func(X)\n",
    "#[-19, -17, -15, -13, -11,  -9,  -7,  -5,  -3,  -1,   1,   3,   5,   7,   9,  11,  13,  15,  17,  19]"
   ]
  },
  {
   "cell_type": "code",
   "execution_count": 4,
   "metadata": {},
   "outputs": [],
   "source": [
    "h1 = tf.keras.layers.Dense(units=4, input_shape=[1])\n",
    "h2 = tf.keras.layers.Dense(units=3)\n",
    "\n",
    "outputs = tf.keras.layers.Dense(units=1)\n",
    "\n",
    "model = tf.keras.Sequential([h1, h2, outputs])"
   ]
  },
  {
   "cell_type": "code",
   "execution_count": 5,
   "metadata": {},
   "outputs": [],
   "source": [
    "model.compile(loss=tf.keras.losses.MeanSquaredError(), optimizer=tf.keras.optimizers.Adam(0.1))\n",
    "history = model.fit(X, Y, epochs=500, verbose=False)"
   ]
  },
  {
   "cell_type": "code",
   "execution_count": 6,
   "metadata": {},
   "outputs": [
    {
     "name": "stdout",
     "output_type": "stream",
     "text": [
      "w1 =  [[ 0.04128122 -0.9167054   0.54655796 -0.15571637]]\n",
      "b1 =  [ 0.03153669 -0.163363    0.16506279 -0.16937427]\n",
      "w2 = \n",
      "[[ 0.02427051 -0.6122202  -0.51457393]\n",
      " [ 1.2560939  -0.35604748 -0.09762487]\n",
      " [-0.61844015  0.09106094  0.7582085 ]\n",
      " [ 0.2567669   0.29520327  0.60476804]]\n",
      "b2 =  [-0.19762284 -0.1912313   0.20725207]\n",
      "w3 = \n",
      "[[-1.2847221 ]\n",
      " [-0.24007317]\n",
      " [ 0.28200334]]\n",
      "b3 =  [0.18670034]\n",
      "predict = \n",
      "[[-19.       ]\n",
      " [-17.       ]\n",
      " [-14.999998 ]\n",
      " [-13.       ]\n",
      " [-11.       ]\n",
      " [ -9.       ]\n",
      " [ -7.0000005]\n",
      " [ -5.       ]\n",
      " [ -3.0000002]\n",
      " [ -1.0000001]\n",
      " [  0.9999999]\n",
      " [  3.       ]\n",
      " [  4.9999995]\n",
      " [  7.0000005]\n",
      " [  9.       ]\n",
      " [ 11.       ]\n",
      " [ 13.000002 ]\n",
      " [ 15.       ]\n",
      " [ 17.       ]\n",
      " [ 19.       ]]\n"
     ]
    }
   ],
   "source": [
    "w1, b1 = h1.get_weights()\n",
    "print(\"w1 = \", w1)\n",
    "print(\"b1 = \", b1)\n",
    "\n",
    "w2, b2 = h2.get_weights()\n",
    "print(\"w2 = \")\n",
    "print(w2)\n",
    "print(\"b2 = \", b2)\n",
    "\n",
    "w3, b3 = outputs.get_weights()\n",
    "print(\"w3 = \")\n",
    "print(w3)\n",
    "print(\"b3 = \", b3)\n",
    "\n",
    "result = model.predict(X)\n",
    "print(\"predict = \")\n",
    "print(result)"
   ]
  },
  {
   "cell_type": "code",
   "execution_count": 7,
   "metadata": {},
   "outputs": [
    {
     "name": "stdout",
     "output_type": "stream",
     "text": [
      "[[-39.000004]\n",
      " [ 40.999996]]\n"
     ]
    }
   ],
   "source": [
    "test_X = np.array([-20, 20])\n",
    "result = model.predict(test_X) \n",
    "print(result)"
   ]
  },
  {
   "cell_type": "code",
   "execution_count": 8,
   "metadata": {},
   "outputs": [
    {
     "data": {
      "image/png": "[encoded data removed]",
      "text/plain": [
       "<Figure size 432x288 with 1 Axes>"
      ]
     },
     "metadata": {
      "needs_background": "light"
     },
     "output_type": "display_data"
    }
   ],
   "source": [
    "X_test = np.arange(11, 30)\n",
    "Y_test = func(X_test)\n",
    "Y_pred = model.predict(X_test)\n",
    "plt.plot(X_test, Y_test, 'g')\n",
    "plt.scatter(X_test, Y_pred, c='r')\n",
    "plt.show()"
   ]
  },
  {
   "cell_type": "code",
   "execution_count": null,
   "metadata": {},
   "outputs": [],
   "source": []
  }
 ],
 "metadata": {
  "kernelspec": {
   "display_name": "Python 3",
   "language": "python",
   "name": "python3"
  },
  "language_info": {
   "codemirror_mode": {
    "name": "ipython",
    "version": 3
   },
   "file_extension": ".py",
   "mimetype": "text/x-python",
   "name": "python",
   "nbconvert_exporter": "python",
   "pygments_lexer": "ipython3",
   "version": "3.7.4"
  }
 },
 "nbformat": 4,
 "nbformat_minor": 4
}
