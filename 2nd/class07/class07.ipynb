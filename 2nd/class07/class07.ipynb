{
 "cells": [
  {
   "cell_type": "code",
   "execution_count": null,
   "metadata": {},
   "outputs": [],
   "source": [
    "import matplotlib.pyplot as plt\n",
    "import tensorflow as tf\n",
    "import numpy as np"
   ]
  },
  {
   "cell_type": "code",
   "execution_count": null,
   "metadata": {},
   "outputs": [],
   "source": [
    "def func(X):\n",
    "   return 2*X+1"
   ]
  },
  {
   "cell_type": "code",
   "execution_count": null,
   "metadata": {},
   "outputs": [],
   "source": [
    "X = np.arange(-10, 10)\n",
    "#[-10,  -9,  -8,  -7,  -6,  -5,  -4,  -3,  -2,  -1,   0,   1,   2,   3,   4,   5,   6,   7,   8,   9]\n",
    "\n",
    "Y = func(X)\n",
    "#[-19, -17, -15, -13, -11,  -9,  -7,  -5,  -3,  -1,   1,   3,   5,   7,   9,  11,  13,  15,  17,  19]"
   ]
  },
  {
   "cell_type": "code",
   "execution_count": null,
   "metadata": {},
   "outputs": [],
   "source": [
    "h1 = tf.keras.layers.Dense(units=4, input_shape=[1])\n",
    "h2 = tf.keras.layers.Dense(units=3)\n",
    "\n",
    "outputs = tf.keras.layers.Dense(units=1)\n",
    "\n",
    "model = tf.keras.Sequential([h1, h2, outputs])"
   ]
  },
  {
   "cell_type": "code",
   "execution_count": null,
   "metadata": {},
   "outputs": [],
   "source": [
    "def print_weights():\n",
    "    w1, b1 = h1.get_weights()\n",
    "    print(\"w1 = \", w1)\n",
    "    print(\"b1 = \", b1)\n",
    "\n",
    "    w2, b2 = h2.get_weights()\n",
    "    print(\"w2 = \")\n",
    "    print(w2)\n",
    "    print(\"b2 = \", b2)\n",
    "\n",
    "    w3, b3 = outputs.get_weights()\n",
    "    print(\"w3 = \")\n",
    "    print(w3)\n",
    "    print(\"b3 = \", b3)\n",
    "\n",
    "    result = model.predict(X)\n",
    "    print(\"predict = \")\n",
    "    print(result)"
   ]
  },
  {
   "cell_type": "code",
   "execution_count": null,
   "metadata": {},
   "outputs": [],
   "source": [
    "model.compile(loss=tf.keras.losses.MeanSquaredError(), optimizer=tf.keras.optimizers.Adam(0.1))\n",
    "print('这是神经网络初始化参数：')\n",
    "print_weights()"
   ]
  },
  {
   "cell_type": "code",
   "execution_count": null,
   "metadata": {},
   "outputs": [],
   "source": [
    "history = model.fit(X, Y, epochs=1, verbose=False)\n",
    "print('这是神经网络第1次迭代后的参数：')\n",
    "print_weights()\n",
    "print('这是神经网络的损失值：')\n",
    "history.history"
   ]
  },
  {
   "cell_type": "code",
   "execution_count": null,
   "metadata": {},
   "outputs": [],
   "source": [
    "history = model.fit(X, Y, epochs=1, verbose=False)\n",
    "print('这是神经网络第2次迭代后的参数：')\n",
    "print_weights()\n",
    "print('这是神经网络的损失值：')\n",
    "history.history"
   ]
  },
  {
   "cell_type": "code",
   "execution_count": null,
   "metadata": {},
   "outputs": [],
   "source": [
    "history = model.fit(X, Y, epochs=1, verbose=False)\n",
    "print('这是神经网络第3次迭代后的参数：')\n",
    "print_weights()\n",
    "print('这是神经网络的损失值：')\n",
    "history.history"
   ]
  },
  {
   "cell_type": "code",
   "execution_count": null,
   "metadata": {},
   "outputs": [],
   "source": [
    "history = model.fit(X, Y, epochs=1, verbose=False)\n",
    "print('这是神经网络第4次迭代后的参数：')\n",
    "print_weights()\n",
    "print('这是神经网络的损失值：')\n",
    "history.history"
   ]
  },
  {
   "cell_type": "code",
   "execution_count": null,
   "metadata": {},
   "outputs": [],
   "source": [
    "history = model.fit(X, Y, epochs=1, verbose=False)\n",
    "print('这是神经网络第5次迭代后的参数：')\n",
    "print_weights()\n",
    "print('这是神经网络的损失值：')\n",
    "history.history"
   ]
  },
  {
   "cell_type": "code",
   "execution_count": null,
   "metadata": {},
   "outputs": [],
   "source": [
    "history = model.fit(X, Y, epochs=495, verbose=False)\n",
    "print('这是神经网络第500次迭代后的参数：')\n",
    "print_weights()\n",
    "print('这是神经网络的损失值：')\n",
    "history.history"
   ]
  },
  {
   "cell_type": "code",
   "execution_count": null,
   "metadata": {},
   "outputs": [],
   "source": []
  }
 ],
 "metadata": {
  "kernelspec": {
   "display_name": "Python 3",
   "language": "python",
   "name": "python3"
  },
  "language_info": {
   "codemirror_mode": {
    "name": "ipython",
    "version": 3
   },
   "file_extension": ".py",
   "mimetype": "text/x-python",
   "name": "python",
   "nbconvert_exporter": "python",
   "pygments_lexer": "ipython3",
   "version": "3.7.4"
  }
 },
 "nbformat": 4,
 "nbformat_minor": 4
}
